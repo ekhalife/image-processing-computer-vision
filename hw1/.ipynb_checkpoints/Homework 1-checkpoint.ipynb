{
 "cells": [
  {
   "cell_type": "code",
   "execution_count": 18,
   "metadata": {},
   "outputs": [],
   "source": [
    "yellowL1Start = [312, 181, 1]\n",
    "yellowL1End = [4, 289, 1]\n",
    "yellowL2Start = [312, 316, 1]\n",
    "yellowL2End = [7, 350, 1]"
   ]
  },
  {
   "cell_type": "code",
   "execution_count": 19,
   "metadata": {},
   "outputs": [],
   "source": [
    "redL1Start = [424, 195, 1]\n",
    "redL1End = [597, 233, 1]\n",
    "redL2Start = [430, 341, 1]\n",
    "redL2End = [601, 344, 1]"
   ]
  },
  {
   "cell_type": "code",
   "execution_count": 20,
   "metadata": {},
   "outputs": [],
   "source": [
    "greenL1Start = [60, 434, 1]\n",
    "greenL1End = [627, 383, 1]\n",
    "greenL2Start = [323, 447, 1]\n",
    "greenL2End = [673, 390, 1]"
   ]
  },
  {
   "cell_type": "code",
   "execution_count": 21,
   "metadata": {},
   "outputs": [
    {
     "name": "stdout",
     "output_type": "stream",
     "text": [
      "Yellow L1:  [312, 181, 1]\n",
      "Yellow L1:  [4, 289, 1]\n",
      "Yellow L2:  [312, 316, 1]\n",
      "Yellow L2:  [7, 350, 1]\n",
      "Red L1:  [424, 195, 1]\n",
      "Red L1:  [597, 233, 1]\n",
      "Red L2:  [430, 341, 1]\n",
      "Red L2:  [601, 344, 1]\n",
      "Green L1:  [60, 434, 1]\n",
      "Green L1:  [627, 383, 1]\n",
      "Green L2:  [323, 447, 1]\n",
      "Green L2:  [673, 390, 1]\n"
     ]
    }
   ],
   "source": [
    "print('Yellow L1: ', yellowL1Start)\n",
    "print('Yellow L1: ', yellowL1End)\n",
    "print('Yellow L2: ', yellowL2Start)\n",
    "print('Yellow L2: ', yellowL2End)\n",
    "print('Red L1: ', redL1Start)\n",
    "print('Red L1: ', redL1End)\n",
    "print('Red L2: ', redL2Start)\n",
    "print('Red L2: ', redL2End)\n",
    "print('Green L1: ', greenL1Start)\n",
    "print('Green L1: ', greenL1End)\n",
    "print('Green L2: ', greenL2Start)\n",
    "print('Green L2: ', greenL2End)"
   ]
  },
  {
   "cell_type": "code",
   "execution_count": 22,
   "metadata": {},
   "outputs": [
    {
     "name": "stdout",
     "output_type": "stream",
     "text": [
      "308\n",
      "-108\n",
      "0\n",
      "305\n",
      "-34\n",
      "0\n"
     ]
    }
   ],
   "source": [
    "yellowX1 = yellowL1Start[0] - yellowL1End[0]\n",
    "print(yellowX1)\n",
    "\n",
    "yellowY1 = yellowL1Start[1] - yellowL1End[1]\n",
    "print(yellowY1)\n",
    "\n",
    "yellowC1 = yellowL1Start[2] - yellowL1End[2]\n",
    "print(yellowC1)\n",
    "\n",
    "yellowX2 = yellowL2Start[0] - yellowL2End[0]\n",
    "print(yellowX2)\n",
    "\n",
    "yellowY2 = yellowL2Start[1] - yellowL2End[1]\n",
    "print(yellowY2)\n",
    "\n",
    "yellowC2 = yellowL2Start[2] - yellowL2End[2]\n",
    "print(yellowC2)"
   ]
  },
  {
   "cell_type": "code",
   "execution_count": null,
   "metadata": {},
   "outputs": [],
   "source": []
  }
 ],
 "metadata": {
  "kernelspec": {
   "display_name": "Python 3",
   "language": "python",
   "name": "python3"
  },
  "language_info": {
   "codemirror_mode": {
    "name": "ipython",
    "version": 3
   },
   "file_extension": ".py",
   "mimetype": "text/x-python",
   "name": "python",
   "nbconvert_exporter": "python",
   "pygments_lexer": "ipython3",
   "version": "3.7.2"
  }
 },
 "nbformat": 4,
 "nbformat_minor": 2
}
