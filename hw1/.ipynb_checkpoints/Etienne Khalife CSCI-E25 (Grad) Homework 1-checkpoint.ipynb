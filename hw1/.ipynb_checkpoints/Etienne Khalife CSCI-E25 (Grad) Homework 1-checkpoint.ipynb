{
 "cells": [
  {
   "cell_type": "code",
   "execution_count": 1,
   "metadata": {},
   "outputs": [],
   "source": [
    "import numpy as np\n",
    "import cv2\n",
    "from matplotlib import pyplot as plt\n",
    "\n",
    "def slope(x1, y1, x2, y2):\n",
    "    return (y2-y1)/(x2-x1)\n",
    "\n",
    "def y_intercept(m, x, y):\n",
    "    return y - (m*x)\n",
    "\n",
    "def line(m, x, b):\n",
    "    return (m*x) + b\n",
    "\n",
    "def intersection(m1, b1, m2, b2):\n",
    "    return (b2-b1)/(m1-m2)\n",
    "\n",
    "def find_vanishing_point(L1Start, L1End, L2Start, L2End):\n",
    "    L1Slope = slope(L1Start[0], L1Start[1], L1End[0], L1End[1])\n",
    "    L1Intercept = y_intercept(L1Slope, L1Start[0], L1Start[1])\n",
    "\n",
    "    L2Slope = slope(L2Start[0], L2Start[1], L2End[0], L2End[1])\n",
    "    L2Intercept = y_intercept(L2Slope, L2Start[0], L2Start[1])\n",
    "\n",
    "    vX = intersection(L1Slope, L1Intercept, L2Slope, L2Intercept)\n",
    "    vY = line(L1Slope, vX, L1Intercept)\n",
    "\n",
    "    v = [vX, vY]\n",
    "\n",
    "    return v"
   ]
  },
  {
   "cell_type": "code",
   "execution_count": 2,
   "metadata": {},
   "outputs": [],
   "source": [
    "yellowL1Start = [312, 181, 1]\n",
    "yellowL1End = [4, 289, 1]\n",
    "yellowL2Start = [312, 316, 1]\n",
    "yellowL2End = [7, 350, 1]"
   ]
  },
  {
   "cell_type": "code",
   "execution_count": 3,
   "metadata": {},
   "outputs": [],
   "source": [
    "redL1Start = [424, 195, 1]\n",
    "redL1End = [597, 233, 1]\n",
    "redL2Start = [430, 341, 1]\n",
    "redL2End = [601, 344, 1]"
   ]
  },
  {
   "cell_type": "code",
   "execution_count": 4,
   "metadata": {},
   "outputs": [],
   "source": [
    "greenL1Start = [60, 434, ]\n",
    "greenL1End = [627, 383, 1]\n",
    "greenL2Start = [323, 447, 1]\n",
    "greenL2End = [673, 390, 1]"
   ]
  },
  {
   "cell_type": "code",
   "execution_count": 5,
   "metadata": {},
   "outputs": [],
   "source": [
    "v1Exact = find_vanishing_point(yellowL1Start, yellowL1End, yellowL2Start, yellowL2End)\n",
    "v2Exact = find_vanishing_point(redL1Start, redL1End, redL2Start, redL2End)\n",
    "v3Exact = find_vanishing_point(greenL1Start, greenL1End, greenL2Start, greenL2End)\n",
    "\n",
    "v1 = np.array([round(v1Exact[0]), round(v1Exact[1]), 1])\n",
    "v2 = np.array([round(v2Exact[0]), round(v2Exact[1]), 1])\n",
    "v3 = np.array([round(v3Exact[0]), round(v3Exact[1]), 1])\n",
    "\n",
    "focalX = 188/710 #mm/pixels\n",
    "focalY = 124/470 #mm/pixels"
   ]
  },
  {
   "cell_type": "code",
   "execution_count": 6,
   "metadata": {
    "scrolled": true
   },
   "outputs": [
    {
     "name": "stdout",
     "output_type": "stream",
     "text": [
      "v1 Exact:  [-252.4427630407691, 378.92148833897096]\n",
      "v2 Exact:  [1145.8605117912693, 353.55895634721526]\n",
      "v3 Exact:  [825.7576197387514, 365.12233049968904]\n"
     ]
    }
   ],
   "source": [
    "#print('Yellow L1: ', yellowL1Start)\n",
    "#print('Yellow L1: ', yellowL1End)\n",
    "#print('Yellow L2: ', yellowL2Start)\n",
    "#print('Yellow L2: ', yellowL2End)\n",
    "#print('Red L1: ', redL1Start)\n",
    "#print('Red L1: ', redL1End)\n",
    "#print('Red L2: ', redL2Start)\n",
    "#print('Red L2: ', redL2End)\n",
    "#print('Green L1: ', greenL1Start)\n",
    "#print('Green L1: ', greenL1End)\n",
    "#print('Green L2: ', greenL2Start)\n",
    "#print('Green L2: ', greenL2End)\n",
    "print('v1 Exact: ', v1Exact)\n",
    "print('v2 Exact: ', v2Exact)\n",
    "print('v3 Exact: ', v3Exact)"
   ]
  },
  {
   "cell_type": "code",
   "execution_count": 7,
   "metadata": {
    "scrolled": true
   },
   "outputs": [
    {
     "name": "stdout",
     "output_type": "stream",
     "text": [
      "Answer 1a\n",
      "(x, y, z) Pixel Coordinates of vanishing points (Assuming 0,0 at the top left corner)\n",
      "v1:  [-252  379    1]\n",
      "v2:  [1146  354    1]\n",
      "v3:  [826 365   1]\n"
     ]
    }
   ],
   "source": [
    "print('Answer 1a')\n",
    "print('(x, y, z) Pixel Coordinates of vanishing points (Assuming 0,0 at the top left corner)')\n",
    "print('v1: ', v1)\n",
    "print('v2: ', v2)\n",
    "print('v3: ', v3)"
   ]
  },
  {
   "cell_type": "code",
   "execution_count": 8,
   "metadata": {},
   "outputs": [
    {
     "name": "stdout",
     "output_type": "stream",
     "text": [
      "Answer 1b TODO TODO TODO\n",
      "-154625\n",
      "-69816\n",
      "1075807\n",
      "\t[α\t0\tcx]\n",
      "K = \t[0\tα\tcy]\n",
      "\t[0\t0\t1]\n",
      "\r\n",
      "\n",
      "Pixels are in terms of 1/K and 1/L\n",
      "a = Kf\n",
      "beta = Lf\n",
      "\n",
      "ω = (KK^T)^-1\n"
     ]
    }
   ],
   "source": [
    "print('Answer 1b TODO TODO TODO')\n",
    "v1Tv2 = v1.T @ v2\n",
    "v1Tv3 = v1.T @ v3\n",
    "v2Tv3 = v2.T @ v3\n",
    "\n",
    "print(v1Tv2)\n",
    "print(v1Tv3)\n",
    "print(v2Tv3)\n",
    "\n",
    "print('\\t[\\N{GREEK SMALL LETTER ALPHA}\\t0\\tcx]')\n",
    "print('K = \\t[0\\t\\N{GREEK SMALL LETTER ALPHA}\\tcy]')\n",
    "print('\\t[0\\t0\\t1]')\n",
    "print('\\r\\n')\n",
    "print('Pixels are in terms of 1/K and 1/L')\n",
    "print('a = Kf')\n",
    "print('beta = Lf')\n",
    "print('')\n",
    "print('\\N{GREEK SMALL LETTER OMEGA} = (KK^T)^-1')"
   ]
  },
  {
   "cell_type": "code",
   "execution_count": 9,
   "metadata": {},
   "outputs": [
    {
     "name": "stdout",
     "output_type": "stream",
     "text": [
      "\r\n",
      "Answer 1c TODO TODO TODO\n",
      "\r\n",
      "Answer 1d Not required/not graded\n"
     ]
    }
   ],
   "source": [
    "print('\\r')\n",
    "print('Answer 1c TODO TODO TODO')\n",
    "print('\\r')\n",
    "print('Answer 1d Not required/not graded')"
   ]
  },
  {
   "cell_type": "code",
   "execution_count": 10,
   "metadata": {},
   "outputs": [
    {
     "name": "stdout",
     "output_type": "stream",
     "text": [
      "Answer 2\n",
      "Starting line: y = -2x + 2\n",
      "Matching line: y = 2x + 0\n",
      "\r\n",
      "\n",
      "Histogram Equalization Transformation\n",
      "sᵣ = T(r) = ₀∫ʳpᵣw(dw)\n",
      "sᵣ = T(r) = ₀∫ʳ(-2w + 2)(dw)\n",
      "sᵣ = T(r) = (-r² + 2r)\n",
      "\r\n",
      "\n",
      "v = G(z) = ₀∫ᶻpw(dw)\n",
      "v = G(z) = ₀∫ᶻ(2w)(dw)\n",
      "v = G(z) = z²\n",
      "\r\n",
      "\n",
      "Set v = s\n",
      "z² = (-r² + 2r)\n",
      "z = (-r² + 2r)\n",
      "z = √(-r² + 2r)\n"
     ]
    }
   ],
   "source": [
    "def line(x):\n",
    "    return (-2*x) + 2\n",
    "\n",
    "print('Answer 2')\n",
    "print('Starting line: y = -2x + 2')\n",
    "print('Matching line: y = 2x + 0')\n",
    "print('\\r\\n')\n",
    "print('Histogram Equalization Transformation')\n",
    "print('s\\N{LATIN SUBSCRIPT SMALL LETTER R} = T(r) = \\N{SUBSCRIPT ZERO}∫\\N{MODIFIER LETTER SMALL R}p\\N{LATIN SUBSCRIPT SMALL LETTER R}w(dw)')\n",
    "print('s\\N{LATIN SUBSCRIPT SMALL LETTER R} = T(r) = \\N{SUBSCRIPT ZERO}∫\\N{MODIFIER LETTER SMALL R}(-2w + 2)(dw)')\n",
    "print('s\\N{LATIN SUBSCRIPT SMALL LETTER R} = T(r) = (-r\\N{SUPERSCRIPT TWO} + 2r)')\n",
    "print('\\r\\n')\n",
    "print('v = G(z) = \\N{SUBSCRIPT ZERO}∫\\N{MODIFIER LETTER SMALL Z}pw(dw)')\n",
    "print('v = G(z) = \\N{SUBSCRIPT ZERO}∫\\N{MODIFIER LETTER SMALL Z}(2w)(dw)')\n",
    "print('v = G(z) = z\\N{SUPERSCRIPT TWO}')\n",
    "print('\\r\\n')\n",
    "print('Set v = s')\n",
    "print('z\\N{SUPERSCRIPT TWO} = (-r\\N{SUPERSCRIPT TWO} + 2r)')\n",
    "print('z = (-r\\N{SUPERSCRIPT TWO} + 2r)')\n",
    "print('z = \\N{SQUARE ROOT}(-r\\N{SUPERSCRIPT TWO} + 2r)')\n"
   ]
  },
  {
   "cell_type": "code",
   "execution_count": 11,
   "metadata": {},
   "outputs": [
    {
     "name": "stdout",
     "output_type": "stream",
     "text": [
      "Answer 3\n",
      "\r\n",
      "Kernel w:\n",
      "\t[1\t2\t1]\n",
      "w = \t[2\t4\t2]\n",
      "\t[1\t2\t1]\n",
      "Rotated Kernel w is identical to w\n",
      "Image f:\n",
      "\t[0\t0\t0\t0\t0]\n",
      "\t[0\t0\t1\t0\t0]\n",
      "f = \t[0\t0\t1\t0\t0]\n",
      "\t[0\t0\t1\t0\t0]\n",
      "\t[0\t0\t0\t0\t0]\n",
      "Answer 3a\n",
      "Convolution formula:\n",
      "y[m, n] = ∑∑ x[i, j] ⋅ f[m-i, n-j]\n",
      "\r\n",
      "Target Area on Image f:\n",
      "\t\t\u001b[4m\t\t  \u001b[0m\n",
      "\t[0\t|0\t0\t0|\t0]\n",
      "\t[0\t|0\t1\t0|\t0]\n",
      "f = \t[0\t\u001b[4m|0\t1\t0|\u001b[0m\t0]\n",
      "\t[0\t0\t1\t0\t0]\n",
      "\t[0\t0\t0\t0\t0]\n",
      "\r\n",
      "y[2, 3] = (0x1)+(0x2)+(0x1)+(0x2)+(1x4)+(0x2)+(0x1)+(1x2)+(0x1)\n",
      "y[2, 3] = 0 + 0 + 0 + 0 + 4 + 0 + 0 + 2 + 0 = 6\n",
      "y[2, 3] = 6\n",
      "\r\n",
      "Result of point (2, 3) on Image f after kernel w convolution:\n",
      "\t[0\t0\t0\t0\t0]\n",
      "\t[0\t0\t6\t0\t0]\n",
      "f = \t[0\t0\t1\t0\t0]\n",
      "\t[0\t0\t1\t0\t0]\n",
      "\t[0\t0\t0\t0\t0]\n",
      "\r\n",
      "Answer 3b\n",
      "y[2, 3] = (0x1)+(0x2)+(0x1)+(0x2)+(1x4)+(0x2)+(0x1)+(1x2)+(0x1)\n",
      "y[2, 3] = 0 + 0 + 0 + 0 + 4 + 0 + 0 + 2 + 0 = 6\n",
      "y[2, 3] = 6\n",
      "Complete Convolution with Zero Padding Image f:\n",
      "\t[0\t0\t0\t0\t0\t0\t0]\n",
      "\t[0\t0\t1\t2\t1\t0\t0]\n",
      "\t[0\t0\t3\t6\t3\t0\t0]\n",
      "f = \t[0\t0\t4\t8\t4\t0\t0]\n",
      "\t[0\t0\t3\t6\t3\t0\t0]\n",
      "\t[0\t0\t1\t2\t1\t0\t0]\n",
      "\t[0\t0\t0\t0\t0\t0\t0]\n",
      "\r",
      "Zero padding removed (for readability)\n",
      "\t[0\t1\t2\t1\t0]\n",
      "\t[0\t3\t6\t3\t0]\n",
      "f = \t[0\t4\t8\t4\t0]\n",
      "\t[0\t3\t6\t3\t0]\n",
      "\t[0\t1\t2\t1\t0]\n"
     ]
    }
   ],
   "source": [
    "print('Answer 3')\n",
    "print('\\r')\n",
    "print('Kernel w:')\n",
    "print('\\t[1\\t2\\t1]')\n",
    "print('w = \\t[2\\t4\\t2]')\n",
    "print('\\t[1\\t2\\t1]')\n",
    "print('Rotated Kernel w is identical to w')\n",
    "print('Image f:')\n",
    "print('\\t[0\\t0\\t0\\t0\\t0]')\n",
    "print('\\t[0\\t0\\t1\\t0\\t0]')\n",
    "print('f = \\t[0\\t0\\t1\\t0\\t0]')\n",
    "print('\\t[0\\t0\\t1\\t0\\t0]')\n",
    "print('\\t[0\\t0\\t0\\t0\\t0]')\n",
    "print('Answer 3a')\n",
    "print('Convolution formula:')\n",
    "print('y[m, n] = \\N{N-ARY SUMMATION}\\N{N-ARY SUMMATION} x[i, j] \\N{DOT OPERATOR} f[m-i, n-j]')\n",
    "print('\\r')\n",
    "print('Target Area on Image f:')\n",
    "print('\\t\\t\\033[4m\\t\\t  \\033[0m')\n",
    "print('\\t[0\\t|0\\t0\\t0|\\t0]')\n",
    "print('\\t[0\\t|0\\t1\\t0|\\t0]')\n",
    "print('f = \\t[0\\t\\033[4m|0\\t1\\t0|\\033[0m\\t0]')\n",
    "print('\\t[0\\t0\\t1\\t0\\t0]')\n",
    "print('\\t[0\\t0\\t0\\t0\\t0]')\n",
    "print('\\r')\n",
    "print('y[2, 3] = (0x1)+(0x2)+(0x1)+(0x2)+(1x4)+(0x2)+(0x1)+(1x2)+(0x1)')\n",
    "print('y[2, 3] = 0 + 0 + 0 + 0 + 4 + 0 + 0 + 2 + 0 = 6')\n",
    "print('y[2, 3] = 6')\n",
    "print('\\r')\n",
    "print('Result of point (2, 3) on Image f after kernel w convolution:')\n",
    "print('\\t[0\\t0\\t0\\t0\\t0]')\n",
    "print('\\t[0\\t0\\t6\\t0\\t0]')\n",
    "print('f = \\t[0\\t0\\t1\\t0\\t0]')\n",
    "print('\\t[0\\t0\\t1\\t0\\t0]')\n",
    "print('\\t[0\\t0\\t0\\t0\\t0]')\n",
    "print('\\r')\n",
    "print('Answer 3b')\n",
    "print('y[2, 3] = (0x1)+(0x2)+(0x1)+(0x2)+(1x4)+(0x2)+(0x1)+(1x2)+(0x1)')\n",
    "print('y[2, 3] = 0 + 0 + 0 + 0 + 4 + 0 + 0 + 2 + 0 = 6')\n",
    "print('y[2, 3] = 6')\n",
    "print('Complete Convolution with Zero Padding Image f:')\n",
    "print('\\t[0\\t0\\t0\\t0\\t0\\t0\\t0]')\n",
    "print('\\t[0\\t0\\t1\\t2\\t1\\t0\\t0]')\n",
    "print('\\t[0\\t0\\t3\\t6\\t3\\t0\\t0]')\n",
    "print('f = \\t[0\\t0\\t4\\t8\\t4\\t0\\t0]')\n",
    "print('\\t[0\\t0\\t3\\t6\\t3\\t0\\t0]')\n",
    "print('\\t[0\\t0\\t1\\t2\\t1\\t0\\t0]')\n",
    "print('\\t[0\\t0\\t0\\t0\\t0\\t0\\t0]')\n",
    "print('\\rZero padding removed (for readability)')\n",
    "print('\\t[0\\t1\\t2\\t1\\t0]')\n",
    "print('\\t[0\\t3\\t6\\t3\\t0]')\n",
    "print('f = \\t[0\\t4\\t8\\t4\\t0]')\n",
    "print('\\t[0\\t3\\t6\\t3\\t0]')\n",
    "print('\\t[0\\t1\\t2\\t1\\t0]')"
   ]
  },
  {
   "cell_type": "code",
   "execution_count": 54,
   "metadata": {},
   "outputs": [
    {
     "name": "stdout",
     "output_type": "stream",
     "text": [
      "Answer 4\n",
      "Answer 4a\n",
      "rₙₖ =\t{1, K = argminⱼ||Xₙ-Μⱼ||²₂\n",
      "\t{0, else\n",
      "\r\n",
      "Answer 4b\n",
      "Μₖ = \t\u001b[4m∑ₙrₙₖxₙ\u001b[0m\n",
      "\t∑ₙrₙₖ\n",
      "\r\n",
      "Answer 4c\n",
      "When programming, check for empty means/cluters\n",
      "K = 3 (from 4d), see slide 34 on Lecture 1\n",
      "If a point is equi-distant from 2 clusters, then arbitrarily choose one\n",
      "\r\n",
      "Answer 4d\n"
     ]
    },
    {
     "data": {
      "text/plain": [
       "array([[ 2.14246009e+00,  1.99162194e+00],\n",
       "       [ 2.12809298e+00,  1.91863585e+00],\n",
       "       [ 2.08660025e+00,  2.11535544e+00],\n",
       "       [ 2.04724988e+00,  2.11080981e+00],\n",
       "       [ 1.95723431e+00,  1.88378737e+00],\n",
       "       [ 2.11205029e+00,  1.98907127e+00],\n",
       "       [ 2.05196577e+00,  1.84712648e+00],\n",
       "       [ 2.17998879e+00,  2.11874850e+00],\n",
       "       [ 2.08364154e+00,  2.00414365e+00],\n",
       "       [ 1.88262778e+00,  1.85662755e+00],\n",
       "       [ 2.08635385e+00,  1.86974876e+00],\n",
       "       [ 1.77767785e+00,  2.10309308e+00],\n",
       "       [ 2.08633971e+00,  2.03778987e+00],\n",
       "       [ 1.83816507e+00,  2.09006629e+00],\n",
       "       [ 2.05151021e+00,  1.80964751e+00],\n",
       "       [ 1.92706672e+00,  2.06881189e+00],\n",
       "       [ 2.05624070e+00,  1.75640826e+00],\n",
       "       [ 1.95086804e+00,  2.05294663e+00],\n",
       "       [ 1.94669216e+00,  1.82273553e+00],\n",
       "       [ 1.84347181e+00,  2.12364002e+00],\n",
       "       [ 2.10563032e+00,  1.96232722e+00],\n",
       "       [ 1.84431432e+00,  2.07260967e+00],\n",
       "       [ 2.03396142e+00,  1.89234068e+00],\n",
       "       [ 1.84769705e+00,  2.00334192e+00],\n",
       "       [ 1.91741992e+00,  2.09906092e+00],\n",
       "       [ 2.16421889e+00,  1.98824963e+00],\n",
       "       [ 1.93408801e+00,  1.92753357e+00],\n",
       "       [ 1.63575701e+00,  2.11451817e+00],\n",
       "       [ 1.94745769e+00,  1.91488300e+00],\n",
       "       [ 1.85203959e+00,  2.21451983e+00],\n",
       "       [ 1.62932369e+00,  2.25378229e+00],\n",
       "       [ 1.70933812e+00,  2.00514319e+00],\n",
       "       [ 2.15181152e+00,  1.77849508e+00],\n",
       "       [ 2.24357353e+00,  2.09005005e+00],\n",
       "       [ 1.92696889e+00,  2.06475768e+00],\n",
       "       [ 2.22496318e+00,  1.97701143e+00],\n",
       "       [ 2.07538582e+00,  1.95250117e+00],\n",
       "       [ 1.99750828e+00,  2.06643841e+00],\n",
       "       [ 1.78992517e+00,  1.98972374e+00],\n",
       "       [ 1.54644582e+00,  2.04052874e+00],\n",
       "       [ 2.10944529e+00,  2.14430590e+00],\n",
       "       [ 1.87045630e+00,  2.01657550e+00],\n",
       "       [ 2.09423202e+00,  1.86747412e+00],\n",
       "       [ 1.97572467e+00,  2.00806123e+00],\n",
       "       [ 2.13203934e+00,  2.08863378e+00],\n",
       "       [ 2.05631184e+00,  2.12977264e+00],\n",
       "       [ 1.91863043e+00,  1.80290823e+00],\n",
       "       [ 2.06865477e+00,  1.94174632e+00],\n",
       "       [ 1.94900030e+00,  1.98377394e+00],\n",
       "       [ 2.01281782e+00,  1.98533503e+00],\n",
       "       [-1.90586104e+00,  2.03720782e+00],\n",
       "       [-2.17003912e+00,  2.59621425e+00],\n",
       "       [-1.62017547e+00,  2.01172939e+00],\n",
       "       [-2.53017956e+00,  1.59276398e+00],\n",
       "       [-1.41959292e+00,  1.88161424e+00],\n",
       "       [-2.04221535e+00,  1.42488886e+00],\n",
       "       [-1.94025003e+00,  2.29068436e+00],\n",
       "       [-1.28767174e+00,  2.24752585e+00],\n",
       "       [-9.04883245e-01,  2.20673903e+00],\n",
       "       [-2.55268260e+00,  1.79643612e+00],\n",
       "       [-1.89333612e+00,  1.94761275e+00],\n",
       "       [-2.27037378e+00,  1.95682027e+00],\n",
       "       [-1.29579879e+00,  1.70111191e+00],\n",
       "       [-2.59254503e+00,  1.95884360e+00],\n",
       "       [-2.25514534e+00,  1.96954404e+00],\n",
       "       [-2.06908739e+00,  1.91507540e+00],\n",
       "       [-1.92421668e+00,  1.63613907e+00],\n",
       "       [-2.63579288e+00,  1.65458872e+00],\n",
       "       [-1.84177519e+00,  2.27399984e+00],\n",
       "       [-2.20144903e+00,  2.00024719e+00],\n",
       "       [-2.37858452e+00,  1.61710561e+00],\n",
       "       [-2.38366755e+00,  1.61208197e+00],\n",
       "       [-2.63497530e+00,  1.77561987e+00],\n",
       "       [-2.42765394e+00,  2.17948338e+00],\n",
       "       [-2.30199681e+00,  2.77786019e+00],\n",
       "       [-2.37291232e+00,  1.76258624e+00],\n",
       "       [-1.84821293e+00,  1.80663419e+00],\n",
       "       [-1.65464537e+00,  2.18058223e+00],\n",
       "       [-2.73954680e+00,  1.43604196e+00],\n",
       "       [-2.40014771e+00,  2.13541614e+00],\n",
       "       [-2.03933493e+00,  1.92648379e+00],\n",
       "       [-1.64557445e+00,  1.31153272e+00],\n",
       "       [-2.39146346e+00,  2.64532353e+00],\n",
       "       [-2.09474182e+00,  2.11676782e+00],\n",
       "       [-2.47947112e+00,  1.92370625e+00],\n",
       "       [-6.89302798e-01,  1.73526136e+00],\n",
       "       [-1.56500920e+00,  1.81554918e+00],\n",
       "       [-1.64465199e+00,  1.74068431e+00],\n",
       "       [-1.94578420e+00,  1.81997692e+00],\n",
       "       [-1.08353157e+00,  1.26735373e+00],\n",
       "       [-2.83759722e+00,  2.01147350e+00],\n",
       "       [-2.05473700e+00,  2.17750048e+00],\n",
       "       [-2.14607823e+00,  2.30319297e+00],\n",
       "       [-2.26398658e+00,  2.67946959e+00],\n",
       "       [-2.26362834e+00,  2.92020449e+00],\n",
       "       [-2.30624891e+00,  2.37137950e+00],\n",
       "       [-1.88940062e+00,  2.03023406e+00],\n",
       "       [-2.28438690e+00,  1.67541376e+00],\n",
       "       [-1.66428067e+00,  2.27103674e+00],\n",
       "       [-1.58850058e+00,  2.17487609e+00],\n",
       "       [ 2.89452021e-02, -1.77380261e+00],\n",
       "       [ 1.86640219e-01, -2.31095700e+00],\n",
       "       [ 1.19110371e-01, -1.73086229e+00],\n",
       "       [ 3.38149019e-01, -2.07687420e+00],\n",
       "       [-3.05518382e-01, -2.30269938e+00],\n",
       "       [-4.24460755e-02, -1.91082018e+00],\n",
       "       [ 1.67026029e-01, -1.73282345e+00],\n",
       "       [ 5.42141653e-01, -2.12956245e+00],\n",
       "       [-3.11640989e-02, -1.77671270e+00],\n",
       "       [-1.09176068e-01, -1.96906755e+00],\n",
       "       [-2.89526322e-01, -2.01845524e+00],\n",
       "       [-9.80813781e-04, -1.81846110e+00],\n",
       "       [ 2.21886939e-01, -1.48567047e+00],\n",
       "       [ 5.09002541e-02, -2.20165929e+00],\n",
       "       [-2.64829490e-01, -2.07246142e+00],\n",
       "       [ 3.76708648e-01, -1.93888150e+00],\n",
       "       [-1.67820821e-01, -2.16501738e+00],\n",
       "       [ 6.91942344e-02, -2.22223847e+00],\n",
       "       [-5.42938052e-03, -2.01045542e+00],\n",
       "       [-5.22049401e-02, -2.08104914e+00],\n",
       "       [-3.81921570e-01, -1.71420575e+00],\n",
       "       [-8.44810726e-02, -1.92246403e+00],\n",
       "       [ 1.44486420e-01, -2.11754597e+00],\n",
       "       [ 9.97481901e-02, -2.01980208e+00],\n",
       "       [-2.40851214e-02, -1.89677529e+00],\n",
       "       [ 2.14637347e-01, -1.98179917e+00],\n",
       "       [ 3.49543189e-01, -1.82942038e+00],\n",
       "       [-2.67923529e-01, -2.18811086e+00],\n",
       "       [-2.61167567e-01, -2.03727359e+00],\n",
       "       [-3.81943443e-01, -1.81071332e+00],\n",
       "       [-3.49903578e-02, -2.12754222e+00],\n",
       "       [ 7.83433550e-02, -2.25838767e+00],\n",
       "       [ 1.31438648e-01, -2.18968372e+00],\n",
       "       [-2.74410694e-01, -1.94523178e+00],\n",
       "       [ 5.89501794e-01, -2.24737916e+00],\n",
       "       [ 4.36591258e-01, -2.33541790e+00],\n",
       "       [ 4.44603686e-01, -2.49140023e+00],\n",
       "       [ 3.95951829e-01, -2.15781487e+00],\n",
       "       [ 2.56497511e-01, -2.24537281e+00],\n",
       "       [ 1.11939191e-01, -2.08795858e+00],\n",
       "       [-1.40753609e-01, -1.87711966e+00],\n",
       "       [-2.05153264e-01, -1.86404820e+00],\n",
       "       [-7.62808398e-02, -2.21055300e+00],\n",
       "       [ 6.10915284e-02, -2.08319457e+00],\n",
       "       [ 6.32111808e-02, -2.27408447e+00],\n",
       "       [ 1.36418286e-01, -1.73253821e+00],\n",
       "       [ 1.49064586e-01, -2.15888942e+00],\n",
       "       [-2.73423938e-03, -2.09117551e+00],\n",
       "       [ 1.96714388e-01, -2.02871099e+00],\n",
       "       [-4.03489432e-01, -2.33216485e+00]])"
      ]
     },
     "execution_count": 54,
     "metadata": {},
     "output_type": "execute_result"
    }
   ],
   "source": [
    "print('Answer 4')\n",
    "print('Answer 4a')\n",
    "print('r\\N{LATIN SUBSCRIPT SMALL LETTER N}\\N{LATIN SUBSCRIPT SMALL LETTER K} =\\t{1, K = argmin\\N{LATIN SUBSCRIPT SMALL LETTER J}||X\\N{LATIN SUBSCRIPT SMALL LETTER N}-\\N{GREEK CAPITAL LETTER MU}\\N{LATIN SUBSCRIPT SMALL LETTER J}||\\N{SUPERSCRIPT TWO}\\N{SUBSCRIPT TWO}')\n",
    "print('\\t{0, else')\n",
    "print('\\r')\n",
    "print('Answer 4b')\n",
    "print('\\N{GREEK CAPITAL LETTER MU}\\N{LATIN SUBSCRIPT SMALL LETTER K} = \\t\\033[4m\\N{N-ARY SUMMATION}\\N{LATIN SUBSCRIPT SMALL LETTER N}r\\N{LATIN SUBSCRIPT SMALL LETTER N}\\N{LATIN SUBSCRIPT SMALL LETTER K}x\\N{LATIN SUBSCRIPT SMALL LETTER N}\\033[0m')\n",
    "print('\\t\\N{N-ARY SUMMATION}\\N{LATIN SUBSCRIPT SMALL LETTER N}r\\N{LATIN SUBSCRIPT SMALL LETTER N}\\N{LATIN SUBSCRIPT SMALL LETTER K}')\n",
    "print('\\r')\n",
    "print('Answer 4c')\n",
    "print('When programming, check for empty means/cluters')\n",
    "print('K = 3 (from 4d), see slide 34 on Lecture 1')\n",
    "print('If a point is equi-distant from 2 clusters, then arbitrarily choose one')\n",
    "print('\\r')\n",
    "print('Answer 4d')\n",
    "np.load('gaussian2D.npy')"
   ]
  },
  {
   "cell_type": "code",
   "execution_count": 13,
   "metadata": {},
   "outputs": [
    {
     "name": "stdout",
     "output_type": "stream",
     "text": [
      "Answer 5\n"
     ]
    }
   ],
   "source": [
    "print('Answer 5')"
   ]
  },
  {
   "cell_type": "markdown",
   "metadata": {},
   "source": [
    "![title](boston0.jpg)"
   ]
  },
  {
   "cell_type": "code",
   "execution_count": 14,
   "metadata": {},
   "outputs": [
    {
     "name": "stdout",
     "output_type": "stream",
     "text": [
      "Answer 5a Lecture 3, slides 10-13\n",
      "pdf first \\/\n",
      "np.histogram(r, bins)\n",
      "np.histogram(r, 256)\n",
      "np.cumSum() for CDF of intensities afterward\n",
      "multiply CDF array by 255\n",
      "r is flattened (image numpy array is flattened into a single array)\n",
      "\r\n",
      "Answer 5b\n",
      "(array([ 25280,  64997,  50314,  40614,  38706,  47911,  50991,  95073,\n",
      "       127537,  88337], dtype=int64), array([ 42. ,  51.4,  60.8,  70.2,  79.6,  89. ,  98.4, 107.8, 117.2,\n",
      "       126.6, 136. ]))\n"
     ]
    },
    {
     "data": {
      "image/png": "[encoded data removed]",
      "text/plain": [
       "<Figure size 432x288 with 1 Axes>"
      ]
     },
     "metadata": {
      "needs_background": "light"
     },
     "output_type": "display_data"
    },
    {
     "name": "stdout",
     "output_type": "stream",
     "text": [
      "\r\n",
      "Answer 5c\n",
      "\r\n",
      "Answer 5d\n"
     ]
    }
   ],
   "source": [
    "print('Answer 5a Lecture 3, slides 10-13')\n",
    "print('pdf first \\/')\n",
    "print('np.histogram(r, bins)')\n",
    "print('np.histogram(r, 256)')\n",
    "print('np.cumSum() for CDF of intensities afterward')\n",
    "print('multiply CDF array by 255')\n",
    "print('r is flattened (image numpy array is flattened into a single array)')\n",
    "print('\\r')\n",
    "print('Answer 5b')\n",
    "\n",
    "img = cv2.imread('./boston0.jpg', 0)\n",
    "hist = np.histogram(img)\n",
    "print(hist)\n",
    "\n",
    "plt.hist(img.ravel(),256,[0,256]); plt.show()\n",
    "cv2.calcHist([img], [0], None, [256], [0, 256])\n",
    "cv2.equalizeHist(img)\n",
    "print('\\r')\n",
    "print('Answer 5c')\n",
    "print('\\r')\n",
    "print('Answer 5d')"
   ]
  },
  {
   "cell_type": "code",
   "execution_count": 15,
   "metadata": {},
   "outputs": [
    {
     "name": "stdout",
     "output_type": "stream",
     "text": [
      "Answer 6\n",
      "opencv function getGaussianKernel(), which requires a sigma value specified in 6a\n",
      "Answer 6a\n",
      "\r\n",
      "Answer 6b\n",
      "\r\n",
      "Answer 6c\n",
      "\r\n",
      "Answer 6d\n"
     ]
    }
   ],
   "source": [
    "print('Answer 6')\n",
    "print('opencv function getGaussianKernel(), which requires a sigma value specified in 6a')\n",
    "print('Answer 6a')\n",
    "print('\\r')\n",
    "print('Answer 6b')\n",
    "print('\\r')\n",
    "print('Answer 6c')\n",
    "print('\\r')\n",
    "print('Answer 6d')"
   ]
  },
  {
   "cell_type": "code",
   "execution_count": 16,
   "metadata": {},
   "outputs": [
    {
     "name": "stdout",
     "output_type": "stream",
     "text": [
      "Answer 7\n",
      "Take \n",
      "Norm the colors by taking 3 vectors and turn into a scalar (Linear algebra library called norm)\n",
      "\n",
      "Answer 7a\n",
      "\r\n",
      "Answer 7b\n",
      "\r\n",
      "Answer 7c\n"
     ]
    }
   ],
   "source": [
    "print('Answer 7')\n",
    "print('Take ')\n",
    "print('Norm the colors by taking 3 vectors and turn into a scalar (Linear algebra library called norm)')\n",
    "print('')\n",
    "print('Answer 7a')\n",
    "print('\\r')\n",
    "print('Answer 7b')\n",
    "print('\\r')\n",
    "print('Answer 7c')"
   ]
  },
  {
   "cell_type": "code",
   "execution_count": null,
   "metadata": {},
   "outputs": [],
   "source": []
  }
 ],
 "metadata": {
  "kernelspec": {
   "display_name": "Python 3",
   "language": "python",
   "name": "python3"
  },
  "language_info": {
   "codemirror_mode": {
    "name": "ipython",
    "version": 3
   },
   "file_extension": ".py",
   "mimetype": "text/x-python",
   "name": "python",
   "nbconvert_exporter": "python",
   "pygments_lexer": "ipython3",
   "version": "3.7.2"
  }
 },
 "nbformat": 4,
 "nbformat_minor": 2
}
