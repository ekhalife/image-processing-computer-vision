{
 "cells": [
  {
   "cell_type": "code",
   "execution_count": 16,
   "metadata": {},
   "outputs": [],
   "source": [
    "def slope(x1, y1, x2, y2):\n",
    "    return (y2-y1)/(x2-x1)\n",
    "\n",
    "def y_intercept(m, x, y):\n",
    "    return y - (m*x)\n",
    "\n",
    "def line(m, x, b):\n",
    "    return (m*x) + b\n",
    "\n",
    "def intersection(m1, b1, m2, b2):\n",
    "    return (b2-b1)/(m1-m2)\n",
    "\n",
    "def find_vanishing_point(L1Start, L1End, L2Start, L2End):\n",
    "    L1Slope = slope(L1Start[0], L1Start[1], L1End[0], L1End[1])\n",
    "    L1Intercept = y_intercept(L1Slope, L1Start[0], L1Start[1])\n",
    "\n",
    "    L2Slope = slope(L2Start[0], L2Start[1], L2End[0], L2End[1])\n",
    "    L2Intercept = y_intercept(L2Slope, L2Start[0], L2Start[1])\n",
    "\n",
    "    vX = intersection(L1Slope, L1Intercept, L2Slope, L2Intercept)\n",
    "    vY = line(L1Slope, vX, L1Intercept)\n",
    "\n",
    "    v = [vX, vY]\n",
    "\n",
    "    return v"
   ]
  },
  {
   "cell_type": "code",
   "execution_count": 17,
   "metadata": {},
   "outputs": [],
   "source": [
    "yellowL1Start = [312, 181, 1]\n",
    "yellowL1End = [4, 289, 1]\n",
    "yellowL2Start = [312, 316, 1]\n",
    "yellowL2End = [7, 350, 1]"
   ]
  },
  {
   "cell_type": "code",
   "execution_count": 18,
   "metadata": {},
   "outputs": [],
   "source": [
    "redL1Start = [424, 195, 1]\n",
    "redL1End = [597, 233, 1]\n",
    "redL2Start = [430, 341, 1]\n",
    "redL2End = [601, 344, 1]"
   ]
  },
  {
   "cell_type": "code",
   "execution_count": 19,
   "metadata": {},
   "outputs": [],
   "source": [
    "greenL1Start = [60, 434, ]\n",
    "greenL1End = [627, 383, 1]\n",
    "greenL2Start = [323, 447, 1]\n",
    "greenL2End = [673, 390, 1]"
   ]
  },
  {
   "cell_type": "code",
   "execution_count": 20,
   "metadata": {},
   "outputs": [],
   "source": [
    "v1 = find_vanishing_point(yellowL1Start, yellowL1End, yellowL2Start, yellowL2End)\n",
    "v2 = find_vanishing_point(redL1Start, redL1End, redL2Start, redL2End)\n",
    "v3 = find_vanishing_point(greenL1Start, greenL1End, greenL2Start, greenL2End)"
   ]
  },
  {
   "cell_type": "code",
   "execution_count": 21,
   "metadata": {},
   "outputs": [
    {
     "name": "stdout",
     "output_type": "stream",
     "text": [
      "Yellow L1:  [312, 181, 1]\n",
      "Yellow L1:  [4, 289, 1]\n",
      "Yellow L2:  [312, 316, 1]\n",
      "Yellow L2:  [7, 350, 1]\n",
      "Red L1:  [424, 195, 1]\n",
      "Red L1:  [597, 233, 1]\n",
      "Red L2:  [430, 341, 1]\n",
      "Red L2:  [601, 344, 1]\n",
      "Green L1:  [60, 434]\n",
      "Green L1:  [627, 383, 1]\n",
      "Green L2:  [323, 447, 1]\n",
      "Green L2:  [673, 390, 1]\n"
     ]
    }
   ],
   "source": [
    "print('Yellow L1: ', yellowL1Start)\n",
    "print('Yellow L1: ', yellowL1End)\n",
    "print('Yellow L2: ', yellowL2Start)\n",
    "print('Yellow L2: ', yellowL2End)\n",
    "print('Red L1: ', redL1Start)\n",
    "print('Red L1: ', redL1End)\n",
    "print('Red L2: ', redL2Start)\n",
    "print('Red L2: ', redL2End)\n",
    "print('Green L1: ', greenL1Start)\n",
    "print('Green L1: ', greenL1End)\n",
    "print('Green L2: ', greenL2Start)\n",
    "print('Green L2: ', greenL2End)"
   ]
  },
  {
   "cell_type": "code",
   "execution_count": 22,
   "metadata": {},
   "outputs": [
    {
     "name": "stdout",
     "output_type": "stream",
     "text": [
      "Answer 1a\n",
      "(x, y) Pixel Coordinates of vanishing points (Assuming 0,0 at the top left corner)\n",
      "v1:  [-252.4427630407691, 378.92148833897096]\n",
      "v2:  [1145.8605117912693, 353.55895634721526]\n",
      "v3:  [825.7576197387514, 365.12233049968904]\n"
     ]
    }
   ],
   "source": [
    "print('Answer 1a')\n",
    "print('(x, y) Pixel Coordinates of vanishing points (Assuming 0,0 at the top left corner)')\n",
    "print('v1: ', v1)\n",
    "print('v2: ', v2)\n",
    "print('v3: ', v3)"
   ]
  },
  {
   "cell_type": "code",
   "execution_count": null,
   "metadata": {},
   "outputs": [],
   "source": [
    "focalX = 188/710 #mm/pixels\n",
    "focalY = 124/470 #mm/pixels"
   ]
  },
  {
   "cell_type": "code",
   "execution_count": 27,
   "metadata": {},
   "outputs": [
    {
     "name": "stdout",
     "output_type": "stream",
     "text": [
      "\t[α\t0\tcx]\n",
      "K = \t[0\tα\tcy]\n",
      "\t[0\t0\t1]\n",
      "\r\n",
      "Answer 1b TODO TODO TODO\n",
      "ω = (KK^T)^-1\n",
      "\r\n",
      "Answer 1c TODO TODO TODO\n",
      "\r\n",
      "Answer 1d TODO TODO TODO\n"
     ]
    }
   ],
   "source": [
    "print('\\t[\\N{GREEK SMALL LETTER ALPHA}\\t0\\tcx]')\n",
    "print('K = \\t[0\\t\\N{GREEK SMALL LETTER ALPHA}\\tcy]')\n",
    "print('\\t[0\\t0\\t1]')\n",
    "\n",
    "print('\\r\\nAnswer 1b TODO TODO TODO')\n",
    "\n",
    "print('\\N{GREEK SMALL LETTER OMEGA} = (KK^T)^-1')\n",
    "\n",
    "\n",
    "#print('\\t[\\N{GREEK SMALL LETTER ALPHA}\\t0\\tcx]')\n",
    "#print('\\t[0\\t0\\t1]')\n",
    "\n",
    "print('\\r\\nAnswer 1c TODO TODO TODO')\n",
    "print('\\r\\nAnswer 1d TODO TODO TODO')"
   ]
  },
  {
   "cell_type": "code",
   "execution_count": 36,
   "metadata": {},
   "outputs": [
    {
     "name": "stdout",
     "output_type": "stream",
     "text": [
      "Answer 2\n",
      "Starting line: y = -2x + 2\n",
      "Histogram Equalization\n",
      "s = T(r) = ₀∫ʳpᵣw(dw)\n",
      "pᵣw = -2x + 2\n"
     ]
    }
   ],
   "source": [
    "def line(x):\n",
    "    return (-2*x) + 2\n",
    "\n",
    "print('Answer 2')\n",
    "print('Starting line: y = -2x + 2')\n",
    "print('Histogram Equalization')\n",
    "print('s = T(r) = \\N{SUBSCRIPT ZERO}∫\\N{MODIFIER LETTER SMALL R}p\\N{LATIN SUBSCRIPT SMALL LETTER R}w(dw)')\n",
    "print('p\\N{LATIN SUBSCRIPT SMALL LETTER R}w = -2x + 2')\n",
    "print('dw = r')\n",
    "print('s = T(r) = \\N{SUBSCRIPT ZERO}∫\\N{MODIFIER LETTER SMALL R}(-2w + 2)(dw)')\n",
    "print('s = T(r) = \\N{SUBSCRIPT ZERO}∫\\N{MODIFIER LETTER SMALL R}(-2w + 2)(r)')\n",
    "print('s = T(r) = \\N{SUBSCRIPT ZERO}∫\\N{MODIFIER LETTER SMALL R}(-2r + 2)(r)')\n"
   ]
  },
  {
   "cell_type": "code",
   "execution_count": null,
   "metadata": {},
   "outputs": [],
   "source": []
  }
 ],
 "metadata": {
  "kernelspec": {
   "display_name": "Python 3",
   "language": "python",
   "name": "python3"
  },
  "language_info": {
   "codemirror_mode": {
    "name": "ipython",
    "version": 3
   },
   "file_extension": ".py",
   "mimetype": "text/x-python",
   "name": "python",
   "nbconvert_exporter": "python",
   "pygments_lexer": "ipython3",
   "version": "3.7.2"
  }
 },
 "nbformat": 4,
 "nbformat_minor": 2
}
