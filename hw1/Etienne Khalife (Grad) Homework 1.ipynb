{
 "cells": [
  {
   "cell_type": "code",
   "execution_count": 185,
   "metadata": {},
   "outputs": [],
   "source": [
    "def slope(x1, y1, x2, y2):\n",
    "    return (y2-y1)/(x2-x1)\n",
    "\n",
    "def y_intercept(m, x, y):\n",
    "    return y - (m*x)\n",
    "\n",
    "def line(m, x, b):\n",
    "    return (m*x) + b\n",
    "\n",
    "def intersection(m1, b1, m2, b2):\n",
    "    return (b2-b1)/(m1-m2)\n",
    "\n",
    "def find_vanishing_point(L1Start, L1End, L2Start, L2End):\n",
    "    L1Slope = slope(L1Start[0], L1Start[1], L1End[0], L1End[1])\n",
    "    L1Intercept = y_intercept(L1Slope, L1Start[0], L1Start[1])\n",
    "\n",
    "    L2Slope = slope(L2Start[0], L2Start[1], L2End[0], L2End[1])\n",
    "    L2Intercept = y_intercept(L2Slope, L2Start[0], L2Start[1])\n",
    "\n",
    "    vX = intersection(L1Slope, L1Intercept, L2Slope, L2Intercept)\n",
    "    vY = line(L1Slope, vX, L1Intercept)\n",
    "\n",
    "    v = [vX, vY]\n",
    "\n",
    "    return v"
   ]
  },
  {
   "cell_type": "code",
   "execution_count": 186,
   "metadata": {},
   "outputs": [],
   "source": [
    "yellowL1Start = [312, 181, 1]\n",
    "yellowL1End = [4, 289, 1]\n",
    "yellowL2Start = [312, 316, 1]\n",
    "yellowL2End = [7, 350, 1]"
   ]
  },
  {
   "cell_type": "code",
   "execution_count": 187,
   "metadata": {},
   "outputs": [],
   "source": [
    "redL1Start = [424, 195, 1]\n",
    "redL1End = [597, 233, 1]\n",
    "redL2Start = [430, 341, 1]\n",
    "redL2End = [601, 344, 1]"
   ]
  },
  {
   "cell_type": "code",
   "execution_count": 188,
   "metadata": {},
   "outputs": [],
   "source": [
    "greenL1Start = [60, 434, ]\n",
    "greenL1End = [627, 383, 1]\n",
    "greenL2Start = [323, 447, 1]\n",
    "greenL2End = [673, 390, 1]"
   ]
  },
  {
   "cell_type": "code",
   "execution_count": 189,
   "metadata": {},
   "outputs": [],
   "source": [
    "v1Exact = find_vanishing_point(yellowL1Start, yellowL1End, yellowL2Start, yellowL2End)\n",
    "v2Exact = find_vanishing_point(redL1Start, redL1End, redL2Start, redL2End)\n",
    "v3Exact = find_vanishing_point(greenL1Start, greenL1End, greenL2Start, greenL2End)\n",
    "\n",
    "v1 = [round(v1Exact[0]), round(v1Exact[1])]\n",
    "v2 = [round(v2Exact[0]), round(v2Exact[1])]\n",
    "v3 = [round(v3Exact[0]), round(v3Exact[1])]\n",
    "\n",
    "focalX = 188/710 #mm/pixels\n",
    "focalY = 124/470 #mm/pixels"
   ]
  },
  {
   "cell_type": "code",
   "execution_count": 190,
   "metadata": {
    "scrolled": true
   },
   "outputs": [
    {
     "name": "stdout",
     "output_type": "stream",
     "text": [
      "Yellow L1:  [312, 181, 1]\n",
      "Yellow L1:  [4, 289, 1]\n",
      "Yellow L2:  [312, 316, 1]\n",
      "Yellow L2:  [7, 350, 1]\n",
      "Red L1:  [424, 195, 1]\n",
      "Red L1:  [597, 233, 1]\n",
      "Red L2:  [430, 341, 1]\n",
      "Red L2:  [601, 344, 1]\n",
      "Green L1:  [60, 434]\n",
      "Green L1:  [627, 383, 1]\n",
      "Green L2:  [323, 447, 1]\n",
      "Green L2:  [673, 390, 1]\n",
      "v1 Exact:  [-252.4427630407691, 378.92148833897096]\n",
      "v2 Exact:  [1145.8605117912693, 353.55895634721526]\n",
      "v3 Exact:  [825.7576197387514, 365.12233049968904]\n"
     ]
    }
   ],
   "source": [
    "print('Yellow L1: ', yellowL1Start)\n",
    "print('Yellow L1: ', yellowL1End)\n",
    "print('Yellow L2: ', yellowL2Start)\n",
    "print('Yellow L2: ', yellowL2End)\n",
    "print('Red L1: ', redL1Start)\n",
    "print('Red L1: ', redL1End)\n",
    "print('Red L2: ', redL2Start)\n",
    "print('Red L2: ', redL2End)\n",
    "print('Green L1: ', greenL1Start)\n",
    "print('Green L1: ', greenL1End)\n",
    "print('Green L2: ', greenL2Start)\n",
    "print('Green L2: ', greenL2End)\n",
    "print('v1 Exact: ', v1Exact)\n",
    "print('v2 Exact: ', v2Exact)\n",
    "print('v3 Exact: ', v3Exact)"
   ]
  },
  {
   "cell_type": "code",
   "execution_count": 191,
   "metadata": {
    "scrolled": true
   },
   "outputs": [
    {
     "name": "stdout",
     "output_type": "stream",
     "text": [
      "Answer 1a\n",
      "(x, y) Pixel Coordinates of vanishing points (Assuming 0,0 at the top left corner)\n",
      "v1:  [-252, 379]\n",
      "v2:  [1146, 354]\n",
      "v3:  [826, 365]\n",
      "\r\n",
      "\n",
      "\t[α\t0\tcx]\n",
      "K = \t[0\tα\tcy]\n",
      "\t[0\t0\t1]\n",
      "\r\n",
      "\n",
      "Answer 1b TODO TODO TODO\n",
      "ω = (KK^T)^-1\n",
      "\r\n",
      "\n",
      "Answer 1c TODO TODO TODO\n",
      "\r\n",
      "\n",
      "Answer 1d Not required/not graded\n"
     ]
    }
   ],
   "source": [
    "print('Answer 1a')\n",
    "print('(x, y) Pixel Coordinates of vanishing points (Assuming 0,0 at the top left corner)')\n",
    "print('v1: ', v1)\n",
    "print('v2: ', v2)\n",
    "print('v3: ', v3)\n",
    "print('\\r\\n')\n",
    "print('\\t[\\N{GREEK SMALL LETTER ALPHA}\\t0\\tcx]')\n",
    "print('K = \\t[0\\t\\N{GREEK SMALL LETTER ALPHA}\\tcy]')\n",
    "print('\\t[0\\t0\\t1]')\n",
    "print('\\r\\n')\n",
    "print('Answer 1b TODO TODO TODO')\n",
    "print('\\N{GREEK SMALL LETTER OMEGA} = (KK^T)^-1')\n",
    "print('\\r\\n')\n",
    "print('Answer 1c TODO TODO TODO')\n",
    "print('\\r\\n')\n",
    "print('Answer 1d Not required/not graded')"
   ]
  },
  {
   "cell_type": "code",
   "execution_count": 192,
   "metadata": {},
   "outputs": [
    {
     "name": "stdout",
     "output_type": "stream",
     "text": [
      "Answer 2\n",
      "Starting line: y = -2x + 2\n",
      "Matching line: y = 2x + 0\n",
      "\r\n",
      "\n",
      "Histogram Equalization Transformation\n",
      "sᵣ = T(r) = ₀∫ʳpᵣw(dw)\n",
      "sᵣ = T(r) = ₀∫ʳ(-2w + 2)(dw)\n",
      "sᵣ = T(r) = (-r² + 2r)\n",
      "\r\n",
      "\n",
      "v = G(z) = ₀∫ᶻpw(dw)\n",
      "v = G(z) = ₀∫ᶻ(2w)(dw)\n",
      "v = G(z) = z²\n",
      "\r\n",
      "\n",
      "Set v = s\n",
      "z² = (-r² + 2r)\n",
      "z = (-r² + 2r)\n",
      "z = √(-r² + 2r)\n"
     ]
    }
   ],
   "source": [
    "def line(x):\n",
    "    return (-2*x) + 2\n",
    "\n",
    "print('Answer 2')\n",
    "print('Starting line: y = -2x + 2')\n",
    "print('Matching line: y = 2x + 0')\n",
    "print('\\r\\n')\n",
    "print('Histogram Equalization Transformation')\n",
    "print('s\\N{LATIN SUBSCRIPT SMALL LETTER R} = T(r) = \\N{SUBSCRIPT ZERO}∫\\N{MODIFIER LETTER SMALL R}p\\N{LATIN SUBSCRIPT SMALL LETTER R}w(dw)')\n",
    "print('s\\N{LATIN SUBSCRIPT SMALL LETTER R} = T(r) = \\N{SUBSCRIPT ZERO}∫\\N{MODIFIER LETTER SMALL R}(-2w + 2)(dw)')\n",
    "print('s\\N{LATIN SUBSCRIPT SMALL LETTER R} = T(r) = (-r\\N{SUPERSCRIPT TWO} + 2r)')\n",
    "print('\\r\\n')\n",
    "print('v = G(z) = \\N{SUBSCRIPT ZERO}∫\\N{MODIFIER LETTER SMALL Z}pw(dw)')\n",
    "print('v = G(z) = \\N{SUBSCRIPT ZERO}∫\\N{MODIFIER LETTER SMALL Z}(2w)(dw)')\n",
    "print('v = G(z) = z\\N{SUPERSCRIPT TWO}')\n",
    "print('\\r\\n')\n",
    "print('Set v = s')\n",
    "print('z\\N{SUPERSCRIPT TWO} = (-r\\N{SUPERSCRIPT TWO} + 2r)')\n",
    "print('z = (-r\\N{SUPERSCRIPT TWO} + 2r)')\n",
    "print('z = \\N{SQUARE ROOT}(-r\\N{SUPERSCRIPT TWO} + 2r)')\n"
   ]
  },
  {
   "cell_type": "code",
   "execution_count": 193,
   "metadata": {},
   "outputs": [
    {
     "name": "stdout",
     "output_type": "stream",
     "text": [
      "Kernel w:\n",
      "\t[1\t2\t1]\n",
      "w = \t[2\t4\t2]\n",
      "\t[1\t2\t1]\n",
      "Rotated Kernel w is identical to w\n",
      "Image f:\n",
      "\t[0\t0\t0\t0\t0]\n",
      "\t[0\t0\t1\t0\t0]\n",
      "f = \t[0\t0\t1\t0\t0]\n",
      "\t[0\t0\t1\t0\t0]\n",
      "\t[0\t0\t0\t0\t0]\n"
     ]
    }
   ],
   "source": [
    "print('Kernel w:')\n",
    "print('\\t[1\\t2\\t1]')\n",
    "print('w = \\t[2\\t4\\t2]')\n",
    "print('\\t[1\\t2\\t1]')\n",
    "print('Rotated Kernel w is identical to w')\n",
    "print('Image f:')\n",
    "print('\\t[0\\t0\\t0\\t0\\t0]')\n",
    "print('\\t[0\\t0\\t1\\t0\\t0]')\n",
    "print('f = \\t[0\\t0\\t1\\t0\\t0]')\n",
    "print('\\t[0\\t0\\t1\\t0\\t0]')\n",
    "print('\\t[0\\t0\\t0\\t0\\t0]')"
   ]
  },
  {
   "cell_type": "code",
   "execution_count": 194,
   "metadata": {},
   "outputs": [
    {
     "name": "stdout",
     "output_type": "stream",
     "text": [
      "Answer 3\n",
      "\r\n",
      "Answer 3a\n",
      "Convolution formula:\n",
      "y[m, n] = ∑∑ x[i, j] ⋅ f[m-i, n-j]\n",
      "\r\n",
      "Target Area on Image f:\n",
      "\t\t\u001b[4m\t\t  \u001b[0m\n",
      "\t[0\t|0\t0\t0|\t0]\n",
      "\t[0\t|0\t1\t0|\t0]\n",
      "f = \t[0\t\u001b[4m|0\t1\t0|\u001b[0m\t0]\n",
      "\t[0\t0\t1\t0\t0]\n",
      "\t[0\t0\t0\t0\t0]\n",
      "\r\n",
      "y[2, 3] = (0x1)+(0x2)+(0x1)+(0x2)+(1x4)+(0x2)+(0x1)+(1x2)+(0x1)\n",
      "y[2, 3] = 0 + 0 + 0 + 0 + 4 + 0 + 0 + 2 + 0 = 6\n",
      "y[2, 3] = 6\n",
      "\r\n",
      "Result of point (2, 3) on Image f after kernel w convolution:\n",
      "\t[0\t0\t0\t0\t0]\n",
      "\t[0\t0\t6\t0\t0]\n",
      "f = \t[0\t0\t1\t0\t0]\n",
      "\t[0\t0\t1\t0\t0]\n",
      "\t[0\t0\t0\t0\t0]\n",
      "\r\n",
      "Answer 3b\n",
      "y[2, 3] = (0x1)+(0x2)+(0x1)+(0x2)+(1x4)+(0x2)+(0x1)+(1x2)+(0x1)\n",
      "y[2, 3] = 0 + 0 + 0 + 0 + 4 + 0 + 0 + 2 + 0 = 6\n",
      "y[2, 3] = 6\n",
      "Complete Convolution with Zero Padding Image f:\n",
      "\t[0\t0\t0\t0\t0\t0\t0]\n",
      "\t[0\t0\t1\t2\t1\t0\t0]\n",
      "\t[0\t0\t3\t6\t3\t0\t0]\n",
      "f = \t[0\t0\t4\t8\t4\t0\t0]\n",
      "\t[0\t0\t3\t6\t3\t0\t0]\n",
      "\t[0\t0\t1\t2\t1\t0\t0]\n",
      "\t[0\t0\t0\t0\t0\t0\t0]\n",
      "\r\n",
      "\t[0\t1\t2\t1\t0]\n",
      "\t[0\t3\t6\t3\t0]\n",
      "f = \t[0\t4\t8\t4\t0]\n",
      "\t[0\t3\t6\t3\t0]\n",
      "\t[0\t1\t2\t1\t0]\n"
     ]
    }
   ],
   "source": [
    "print('Answer 3')\n",
    "print('\\r')\n",
    "print('Answer 3a')\n",
    "print('Convolution formula:')\n",
    "print('y[m, n] = \\N{N-ARY SUMMATION}\\N{N-ARY SUMMATION} x[i, j] \\N{DOT OPERATOR} f[m-i, n-j]')\n",
    "print('\\r')\n",
    "print('Target Area on Image f:')\n",
    "print('\\t\\t\\033[4m\\t\\t  \\033[0m')\n",
    "print('\\t[0\\t|0\\t0\\t0|\\t0]')\n",
    "print('\\t[0\\t|0\\t1\\t0|\\t0]')\n",
    "print('f = \\t[0\\t\\033[4m|0\\t1\\t0|\\033[0m\\t0]')\n",
    "print('\\t[0\\t0\\t1\\t0\\t0]')\n",
    "print('\\t[0\\t0\\t0\\t0\\t0]')\n",
    "print('\\r')\n",
    "print('y[2, 3] = (0x1)+(0x2)+(0x1)+(0x2)+(1x4)+(0x2)+(0x1)+(1x2)+(0x1)')\n",
    "print('y[2, 3] = 0 + 0 + 0 + 0 + 4 + 0 + 0 + 2 + 0 = 6')\n",
    "print('y[2, 3] = 6')\n",
    "print('\\r')\n",
    "print('Result of point (2, 3) on Image f after kernel w convolution:')\n",
    "print('\\t[0\\t0\\t0\\t0\\t0]')\n",
    "print('\\t[0\\t0\\t6\\t0\\t0]')\n",
    "print('f = \\t[0\\t0\\t1\\t0\\t0]')\n",
    "print('\\t[0\\t0\\t1\\t0\\t0]')\n",
    "print('\\t[0\\t0\\t0\\t0\\t0]')\n",
    "\n",
    "\n",
    "print('\\r')\n",
    "print('Answer 3b')\n",
    "print('y[2, 3] = (0x1)+(0x2)+(0x1)+(0x2)+(1x4)+(0x2)+(0x1)+(1x2)+(0x1)')\n",
    "print('y[2, 3] = 0 + 0 + 0 + 0 + 4 + 0 + 0 + 2 + 0 = 6')\n",
    "print('y[2, 3] = 6')\n",
    "print('Complete Convolution with Zero Padding Image f:')\n",
    "print('\\t[0\\t0\\t0\\t0\\t0\\t0\\t0]')\n",
    "print('\\t[0\\t0\\t1\\t2\\t1\\t0\\t0]')\n",
    "print('\\t[0\\t0\\t3\\t6\\t3\\t0\\t0]')\n",
    "print('f = \\t[0\\t0\\t4\\t8\\t4\\t0\\t0]')\n",
    "print('\\t[0\\t0\\t3\\t6\\t3\\t0\\t0]')\n",
    "print('\\t[0\\t0\\t1\\t2\\t1\\t0\\t0]')\n",
    "print('\\t[0\\t0\\t0\\t0\\t0\\t0\\t0]')\n",
    "print('\\r')\n",
    "print('\\t[0\\t1\\t2\\t1\\t0]')\n",
    "print('\\t[0\\t3\\t6\\t3\\t0]')\n",
    "print('f = \\t[0\\t4\\t8\\t4\\t0]')\n",
    "print('\\t[0\\t3\\t6\\t3\\t0]')\n",
    "print('\\t[0\\t1\\t2\\t1\\t0]')\n",
    "\n",
    "\n"
   ]
  },
  {
   "cell_type": "code",
   "execution_count": 195,
   "metadata": {},
   "outputs": [
    {
     "name": "stdout",
     "output_type": "stream",
     "text": [
      "Answer 4\n",
      "Answer 4a\n",
      "\r\n",
      "Answer 4b\n",
      "\r\n",
      "Answer 4c\n",
      "\r\n",
      "Answer 4d\n"
     ]
    }
   ],
   "source": [
    "print('Answer 4')\n",
    "print('Answer 4a')\n",
    "\n",
    "print('\\r')\n",
    "print('Answer 4b')\n",
    "print('\\r')\n",
    "print('Answer 4c')\n",
    "print('\\r')\n",
    "print('Answer 4d')"
   ]
  },
  {
   "cell_type": "code",
   "execution_count": 196,
   "metadata": {},
   "outputs": [
    {
     "name": "stdout",
     "output_type": "stream",
     "text": [
      "Answer 5\n",
      "Answer 5a\n",
      "\r\n",
      "Answer 5b\n",
      "\r\n",
      "Answer 5c\n",
      "\r\n",
      "Answer 5d\n"
     ]
    }
   ],
   "source": [
    "print('Answer 5')\n",
    "print('Answer 5a')\n",
    "print('\\r')\n",
    "print('Answer 5b')\n",
    "print('\\r')\n",
    "print('Answer 5c')\n",
    "print('\\r')\n",
    "print('Answer 5d')"
   ]
  },
  {
   "cell_type": "code",
   "execution_count": 197,
   "metadata": {},
   "outputs": [
    {
     "name": "stdout",
     "output_type": "stream",
     "text": [
      "Answer 6\n",
      "Answer 6a\n",
      "\r\n",
      "Answer 6b\n",
      "\r\n",
      "Answer 6c\n",
      "\r\n",
      "Answer 6d\n"
     ]
    }
   ],
   "source": [
    "print('Answer 6')\n",
    "print('Answer 6a')\n",
    "print('\\r')\n",
    "print('Answer 6b')\n",
    "print('\\r')\n",
    "print('Answer 6c')\n",
    "print('\\r')\n",
    "print('Answer 6d')"
   ]
  },
  {
   "cell_type": "code",
   "execution_count": 198,
   "metadata": {},
   "outputs": [
    {
     "name": "stdout",
     "output_type": "stream",
     "text": [
      "Answer 7\n",
      "Answer 7a\n",
      "\r\n",
      "Answer 7b\n",
      "\r\n",
      "Answer 7c\n"
     ]
    }
   ],
   "source": [
    "print('Answer 7')\n",
    "print('Answer 7a')\n",
    "print('\\r')\n",
    "print('Answer 7b')\n",
    "print('\\r')\n",
    "print('Answer 7c')"
   ]
  },
  {
   "cell_type": "code",
   "execution_count": null,
   "metadata": {},
   "outputs": [],
   "source": []
  }
 ],
 "metadata": {
  "kernelspec": {
   "display_name": "Python 3",
   "language": "python",
   "name": "python3"
  },
  "language_info": {
   "codemirror_mode": {
    "name": "ipython",
    "version": 3
   },
   "file_extension": ".py",
   "mimetype": "text/x-python",
   "name": "python",
   "nbconvert_exporter": "python",
   "pygments_lexer": "ipython3",
   "version": "3.7.2"
  }
 },
 "nbformat": 4,
 "nbformat_minor": 2
}
